{
 "cells": [
  {
   "cell_type": "code",
   "execution_count": 1,
   "id": "2a08f08b",
   "metadata": {},
   "outputs": [],
   "source": [
    "from sklearn.datasets import load_iris\n",
    "from sklearn.neighbors import KNeighborsClassifier\n",
    "from sklearn.model_selection import cross_val_score, train_test_split\n",
    "from sklearn.metrics import confusion_matrix\n",
    "import matplotlib.pyplot as plt\n",
    "%matplotlib inline"
   ]
  },
  {
   "cell_type": "code",
   "execution_count": 2,
   "id": "86128e83",
   "metadata": {},
   "outputs": [
    {
     "name": "stdout",
     "output_type": "stream",
     "text": [
      "x matrix dimensionality :  (150, 4)\n",
      "y matrix dimensionality :  (150,)\n"
     ]
    }
   ],
   "source": [
    "# Loading data\n",
    "irisData = load_iris()\n",
    "\n",
    "# Seperating features and target\n",
    "x = irisData.data\n",
    "y = irisData.target\n",
    "\n",
    "# Printing Data Shape\n",
    "print('x matrix dimensionality : ', x.shape)\n",
    "print('y matrix dimensionality : ', y.shape)"
   ]
  },
  {
   "cell_type": "code",
   "execution_count": 3,
   "id": "9fb23202",
   "metadata": {},
   "outputs": [
    {
     "data": {
      "text/plain": [
       "dict_keys(['data', 'target', 'frame', 'target_names', 'DESCR', 'feature_names', 'filename', 'data_module'])"
      ]
     },
     "execution_count": 3,
     "metadata": {},
     "output_type": "execute_result"
    }
   ],
   "source": [
    "irisData.keys()"
   ]
  },
  {
   "cell_type": "code",
   "execution_count": 4,
   "id": "acaee37e",
   "metadata": {},
   "outputs": [
    {
     "data": {
      "text/plain": [
       "['sepal length (cm)',\n",
       " 'sepal width (cm)',\n",
       " 'petal length (cm)',\n",
       " 'petal width (cm)']"
      ]
     },
     "execution_count": 4,
     "metadata": {},
     "output_type": "execute_result"
    }
   ],
   "source": [
    "irisData.feature_names"
   ]
  },
  {
   "cell_type": "code",
   "execution_count": 5,
   "id": "9342057a",
   "metadata": {},
   "outputs": [
    {
     "data": {
      "text/plain": [
       "array(['setosa', 'versicolor', 'virginica'], dtype='<U10')"
      ]
     },
     "execution_count": 5,
     "metadata": {},
     "output_type": "execute_result"
    }
   ],
   "source": [
    "irisData.target_names"
   ]
  },
  {
   "cell_type": "code",
   "execution_count": 6,
   "id": "851ca959",
   "metadata": {},
   "outputs": [],
   "source": [
    "# Spliting the data into training and testing\n",
    "x_train, x_test, y_train, y_test  = train_test_split(x,y, test_size = 0.2, random_state = 5)"
   ]
  },
  {
   "cell_type": "code",
   "execution_count": 7,
   "id": "124eaad7",
   "metadata": {},
   "outputs": [
    {
     "name": "stdout",
     "output_type": "stream",
     "text": [
      "[1 2 2 0 2 1 0 2 0 1 1 2 2 2 0 0 2 2 0 0 1 2 0 2 1 2 1 1 1 2]\n"
     ]
    }
   ],
   "source": [
    "# Model Building\n",
    "knn = KNeighborsClassifier(n_neighbors = 4)\n",
    "\n",
    "# Fitting the model\n",
    "knn.fit(x_train, y_train)\n",
    "\n",
    "# Predicting from the model\n",
    "y_pred = knn.predict(x_test)\n",
    "print(y_pred)"
   ]
  },
  {
   "cell_type": "code",
   "execution_count": 8,
   "id": "e4e509f8",
   "metadata": {},
   "outputs": [
    {
     "name": "stdout",
     "output_type": "stream",
     "text": [
      "[[ 8  0  0]\n",
      " [ 0  9  2]\n",
      " [ 0  0 11]]\n"
     ]
    }
   ],
   "source": [
    "# Confusion Matrix\n",
    "cm = confusion_matrix(y_test, y_pred)\n",
    "print(cm)"
   ]
  },
  {
   "cell_type": "code",
   "execution_count": 9,
   "id": "d6f9a8a7",
   "metadata": {},
   "outputs": [],
   "source": [
    "# (2*100)/30 = 6.67%(Error)\n",
    "#  (28*100)/30 = 93.33%(Accuracy)"
   ]
  },
  {
   "cell_type": "code",
   "execution_count": 10,
   "id": "af96b562",
   "metadata": {},
   "outputs": [
    {
     "name": "stdout",
     "output_type": "stream",
     "text": [
      "[0.9466666666666665, 0.9666666666666668, 0.9733333333333334, 0.9733333333333334, 0.9800000000000001, 0.9800000000000001, 0.9666666666666668, 0.9733333333333334, 0.9800000000000001, 0.9800000000000001, 0.9800000000000001, 0.9733333333333334, 0.9666666666666666, 0.9666666666666668, 0.9666666666666668, 0.9666666666666668, 0.9666666666666666, 0.9666666666666668]\n"
     ]
    }
   ],
   "source": [
    "# Searching for optimal value of k\n",
    "\n",
    "# list of scores from k_range\n",
    "k_range = range(2,20)\n",
    "\n",
    "# Empty list to store scores\n",
    "k_scores = []\n",
    "\n",
    "# Lopping through different values of k\n",
    "for k in k_range:\n",
    "    knn = KNeighborsClassifier(n_neighbors = k)\n",
    "    scores = cross_val_score(knn, x, y, cv=5, scoring = 'accuracy')\n",
    "    k_scores.append(scores.mean())\n",
    "print(k_scores)"
   ]
  },
  {
   "cell_type": "code",
   "execution_count": 11,
   "id": "c0803813",
   "metadata": {},
   "outputs": [
    {
     "data": {
      "image/png": "[encoded data removed]",
      "text/plain": [
       "<Figure size 432x288 with 1 Axes>"
      ]
     },
     "metadata": {
      "needs_background": "light"
     },
     "output_type": "display_data"
    }
   ],
   "source": [
    "# Plotting\n",
    "plt.plot(k_range,k_scores)\n",
    "plt.xlabel('K Values')\n",
    "plt.ylabel('Cross Validated Mean Accuracy')\n",
    "plt.show()"
   ]
  },
  {
   "cell_type": "code",
   "execution_count": 12,
   "id": "ac4a417b",
   "metadata": {},
   "outputs": [],
   "source": [
    "# Optimum k values can be 6,7,10,11,12\n",
    "# Since 6 and 12 are divisible by 3 we can discard them,\n",
    "# Out of 7, 10, 11 we will take the optimum value as 7 "
   ]
  },
  {
   "cell_type": "code",
   "execution_count": 15,
   "id": "0e9ca736",
   "metadata": {},
   "outputs": [
    {
     "name": "stdout",
     "output_type": "stream",
     "text": [
      "[1 2 2 0 2 1 0 2 0 1 1 2 2 2 0 0 2 2 0 0 1 2 0 1 1 2 1 1 1 2]\n"
     ]
    }
   ],
   "source": [
    "# Model Building\n",
    "knn = KNeighborsClassifier(n_neighbors = 7)\n",
    "\n",
    "# Fitting the model\n",
    "knn.fit(x_train, y_train)\n",
    "\n",
    "# Predicting from the model\n",
    "y_pred = knn.predict(x_test)\n",
    "print(y_pred)"
   ]
  },
  {
   "cell_type": "code",
   "execution_count": 16,
   "id": "c97a14e8",
   "metadata": {},
   "outputs": [
    {
     "name": "stdout",
     "output_type": "stream",
     "text": [
      "[[ 8  0  0]\n",
      " [ 0 10  1]\n",
      " [ 0  0 11]]\n"
     ]
    }
   ],
   "source": [
    "# Confusion Matrix\n",
    "cm = confusion_matrix(y_test, y_pred)\n",
    "print(cm)"
   ]
  },
  {
   "cell_type": "code",
   "execution_count": null,
   "id": "5bd9a0ea",
   "metadata": {},
   "outputs": [],
   "source": []
  }
 ],
 "metadata": {
  "kernelspec": {
   "display_name": "Python 3 (ipykernel)",
   "language": "python",
   "name": "python3"
  },
  "language_info": {
   "codemirror_mode": {
    "name": "ipython",
    "version": 3
   },
   "file_extension": ".py",
   "mimetype": "text/x-python",
   "name": "python",
   "nbconvert_exporter": "python",
   "pygments_lexer": "ipython3",
   "version": "3.9.7"
  }
 },
 "nbformat": 4,
 "nbformat_minor": 5
}
